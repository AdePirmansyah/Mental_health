{
 "cells": [
  {
   "cell_type": "code",
   "execution_count": 55,
   "id": "33e1d0ee-a681-4b79-887e-8c953a311db8",
   "metadata": {},
   "outputs": [],
   "source": [
    "import pandas as pd\n",
    "import warnings\n",
    "warnings.filterwarnings('ignore')"
   ]
  },
  {
   "cell_type": "code",
   "execution_count": 56,
   "id": "d3726c10-1e9a-47a8-b57d-c591a86f7869",
   "metadata": {},
   "outputs": [
    {
     "data": {
      "text/html": [
       "<div>\n",
       "<style scoped>\n",
       "    .dataframe tbody tr th:only-of-type {\n",
       "        vertical-align: middle;\n",
       "    }\n",
       "\n",
       "    .dataframe tbody tr th {\n",
       "        vertical-align: top;\n",
       "    }\n",
       "\n",
       "    .dataframe thead th {\n",
       "        text-align: right;\n",
       "    }\n",
       "</style>\n",
       "<table border=\"1\" class=\"dataframe\">\n",
       "  <thead>\n",
       "    <tr style=\"text-align: right;\">\n",
       "      <th></th>\n",
       "      <th>Snoring range</th>\n",
       "      <th>Respiration rate</th>\n",
       "      <th>Body temperature</th>\n",
       "      <th>Limb movement rate</th>\n",
       "      <th>Blood oxygen levels</th>\n",
       "      <th>Eye movement</th>\n",
       "      <th>Number of hour,sleep</th>\n",
       "      <th>Heart rate</th>\n",
       "      <th>Strees levels</th>\n",
       "    </tr>\n",
       "  </thead>\n",
       "  <tbody>\n",
       "    <tr>\n",
       "      <th>0</th>\n",
       "      <td>93.800</td>\n",
       "      <td>25.680</td>\n",
       "      <td>91.840</td>\n",
       "      <td>16.600</td>\n",
       "      <td>89.840</td>\n",
       "      <td>99.60</td>\n",
       "      <td>1.840</td>\n",
       "      <td>74.20</td>\n",
       "      <td>3</td>\n",
       "    </tr>\n",
       "    <tr>\n",
       "      <th>1</th>\n",
       "      <td>91.640</td>\n",
       "      <td>25.104</td>\n",
       "      <td>91.552</td>\n",
       "      <td>15.880</td>\n",
       "      <td>89.552</td>\n",
       "      <td>98.88</td>\n",
       "      <td>1.552</td>\n",
       "      <td>72.76</td>\n",
       "      <td>3</td>\n",
       "    </tr>\n",
       "    <tr>\n",
       "      <th>2</th>\n",
       "      <td>60.000</td>\n",
       "      <td>20.000</td>\n",
       "      <td>96.000</td>\n",
       "      <td>10.000</td>\n",
       "      <td>95.000</td>\n",
       "      <td>85.00</td>\n",
       "      <td>7.000</td>\n",
       "      <td>60.00</td>\n",
       "      <td>1</td>\n",
       "    </tr>\n",
       "    <tr>\n",
       "      <th>3</th>\n",
       "      <td>85.760</td>\n",
       "      <td>23.536</td>\n",
       "      <td>90.768</td>\n",
       "      <td>13.920</td>\n",
       "      <td>88.768</td>\n",
       "      <td>96.92</td>\n",
       "      <td>0.768</td>\n",
       "      <td>68.84</td>\n",
       "      <td>3</td>\n",
       "    </tr>\n",
       "    <tr>\n",
       "      <th>4</th>\n",
       "      <td>48.120</td>\n",
       "      <td>17.248</td>\n",
       "      <td>97.872</td>\n",
       "      <td>6.496</td>\n",
       "      <td>96.248</td>\n",
       "      <td>72.48</td>\n",
       "      <td>8.248</td>\n",
       "      <td>53.12</td>\n",
       "      <td>0</td>\n",
       "    </tr>\n",
       "    <tr>\n",
       "      <th>...</th>\n",
       "      <td>...</td>\n",
       "      <td>...</td>\n",
       "      <td>...</td>\n",
       "      <td>...</td>\n",
       "      <td>...</td>\n",
       "      <td>...</td>\n",
       "      <td>...</td>\n",
       "      <td>...</td>\n",
       "      <td>...</td>\n",
       "    </tr>\n",
       "    <tr>\n",
       "      <th>625</th>\n",
       "      <td>69.600</td>\n",
       "      <td>20.960</td>\n",
       "      <td>92.960</td>\n",
       "      <td>10.960</td>\n",
       "      <td>90.960</td>\n",
       "      <td>89.80</td>\n",
       "      <td>3.440</td>\n",
       "      <td>62.40</td>\n",
       "      <td>2</td>\n",
       "    </tr>\n",
       "    <tr>\n",
       "      <th>626</th>\n",
       "      <td>48.440</td>\n",
       "      <td>17.376</td>\n",
       "      <td>98.064</td>\n",
       "      <td>6.752</td>\n",
       "      <td>96.376</td>\n",
       "      <td>73.76</td>\n",
       "      <td>8.376</td>\n",
       "      <td>53.44</td>\n",
       "      <td>0</td>\n",
       "    </tr>\n",
       "    <tr>\n",
       "      <th>627</th>\n",
       "      <td>97.504</td>\n",
       "      <td>27.504</td>\n",
       "      <td>86.880</td>\n",
       "      <td>17.752</td>\n",
       "      <td>84.256</td>\n",
       "      <td>101.88</td>\n",
       "      <td>0.000</td>\n",
       "      <td>78.76</td>\n",
       "      <td>4</td>\n",
       "    </tr>\n",
       "    <tr>\n",
       "      <th>628</th>\n",
       "      <td>58.640</td>\n",
       "      <td>19.728</td>\n",
       "      <td>95.728</td>\n",
       "      <td>9.728</td>\n",
       "      <td>94.592</td>\n",
       "      <td>84.32</td>\n",
       "      <td>6.728</td>\n",
       "      <td>59.32</td>\n",
       "      <td>1</td>\n",
       "    </tr>\n",
       "    <tr>\n",
       "      <th>629</th>\n",
       "      <td>73.920</td>\n",
       "      <td>21.392</td>\n",
       "      <td>93.392</td>\n",
       "      <td>11.392</td>\n",
       "      <td>91.392</td>\n",
       "      <td>91.96</td>\n",
       "      <td>4.088</td>\n",
       "      <td>63.48</td>\n",
       "      <td>2</td>\n",
       "    </tr>\n",
       "  </tbody>\n",
       "</table>\n",
       "<p>630 rows × 9 columns</p>\n",
       "</div>"
      ],
      "text/plain": [
       "     Snoring range  Respiration rate  Body temperature  Limb movement rate  \\\n",
       "0           93.800            25.680            91.840              16.600   \n",
       "1           91.640            25.104            91.552              15.880   \n",
       "2           60.000            20.000            96.000              10.000   \n",
       "3           85.760            23.536            90.768              13.920   \n",
       "4           48.120            17.248            97.872               6.496   \n",
       "..             ...               ...               ...                 ...   \n",
       "625         69.600            20.960            92.960              10.960   \n",
       "626         48.440            17.376            98.064               6.752   \n",
       "627         97.504            27.504            86.880              17.752   \n",
       "628         58.640            19.728            95.728               9.728   \n",
       "629         73.920            21.392            93.392              11.392   \n",
       "\n",
       "     Blood oxygen levels  Eye movement  Number of hour,sleep  Heart rate  \\\n",
       "0                 89.840         99.60                 1.840       74.20   \n",
       "1                 89.552         98.88                 1.552       72.76   \n",
       "2                 95.000         85.00                 7.000       60.00   \n",
       "3                 88.768         96.92                 0.768       68.84   \n",
       "4                 96.248         72.48                 8.248       53.12   \n",
       "..                   ...           ...                   ...         ...   \n",
       "625               90.960         89.80                 3.440       62.40   \n",
       "626               96.376         73.76                 8.376       53.44   \n",
       "627               84.256        101.88                 0.000       78.76   \n",
       "628               94.592         84.32                 6.728       59.32   \n",
       "629               91.392         91.96                 4.088       63.48   \n",
       "\n",
       "     Strees levels  \n",
       "0                3  \n",
       "1                3  \n",
       "2                1  \n",
       "3                3  \n",
       "4                0  \n",
       "..             ...  \n",
       "625              2  \n",
       "626              0  \n",
       "627              4  \n",
       "628              1  \n",
       "629              2  \n",
       "\n",
       "[630 rows x 9 columns]"
      ]
     },
     "execution_count": 56,
     "metadata": {},
     "output_type": "execute_result"
    }
   ],
   "source": [
    "data = pd.read_csv('dataset/data_kesehatan_jiwa.csv',index_col='Unnamed: 0')\n",
    "data"
   ]
  },
  {
   "cell_type": "code",
   "execution_count": 57,
   "id": "7cbea217-2462-4844-a1ed-8cfa84ecab00",
   "metadata": {},
   "outputs": [],
   "source": [
    "import seaborn as sns\n",
    "sns.set()"
   ]
  },
  {
   "cell_type": "code",
   "execution_count": 58,
   "id": "d61d8fd3-4058-481e-ade4-2854a1972af5",
   "metadata": {},
   "outputs": [],
   "source": [
    "X = data.drop(columns='Strees levels')\n",
    "y = data['Strees levels']"
   ]
  },
  {
   "cell_type": "code",
   "execution_count": 77,
   "id": "ba516202-0a7a-41e7-80ed-18f8854febb9",
   "metadata": {},
   "outputs": [],
   "source": [
    "from sklearn.model_selection import train_test_split\n",
    "X_train, X_test, y_train, y_test = train_test_split(X, y, test_size=0.30, random_state=42)"
   ]
  },
  {
   "cell_type": "code",
   "execution_count": 80,
   "id": "d9bf304a-3bd1-4d8f-9f4d-aa45913f9ac8",
   "metadata": {},
   "outputs": [
    {
     "data": {
      "text/plain": [
       "((441, 8), (189, 8))"
      ]
     },
     "execution_count": 80,
     "metadata": {},
     "output_type": "execute_result"
    }
   ],
   "source": [
    "X_train.shape,X_test.shape"
   ]
  },
  {
   "cell_type": "code",
   "execution_count": 112,
   "id": "0b9bda62-a3bc-4e38-8bec-2151ccd47195",
   "metadata": {},
   "outputs": [
    {
     "data": {
      "text/plain": [
       "KNeighborsClassifier(n_neighbors=80)"
      ]
     },
     "execution_count": 112,
     "metadata": {},
     "output_type": "execute_result"
    }
   ],
   "source": [
    "from sklearn.neighbors import KNeighborsClassifier\n",
    "model = KNeighborsClassifier(n_neighbors = 80)\n",
    "model.fit(X_train,y_train)"
   ]
  },
  {
   "cell_type": "code",
   "execution_count": 113,
   "id": "fc351d59-64d5-4525-9381-1235f44aa994",
   "metadata": {},
   "outputs": [
    {
     "data": {
      "text/plain": [
       "0.9788359788359788"
      ]
     },
     "execution_count": 113,
     "metadata": {},
     "output_type": "execute_result"
    }
   ],
   "source": [
    "model.score(X_test,y_test)"
   ]
  },
  {
   "cell_type": "code",
   "execution_count": 114,
   "id": "7b07142c-f263-412f-9f65-fd6e00363dae",
   "metadata": {},
   "outputs": [
    {
     "data": {
      "text/plain": [
       "array([0, 3, 2, 0, 3, 1, 3, 1, 0, 0, 2, 4, 2, 2, 1, 4, 1, 4, 1, 2, 0, 0,\n",
       "       4, 0, 1, 2, 4, 0, 2, 2, 2, 0, 2, 2, 4, 0, 3, 2, 3, 3, 4, 4, 1, 0,\n",
       "       4, 1, 1, 3, 3, 3, 1, 3, 2, 3, 0, 1, 0, 1, 3, 0, 3, 3, 0, 2, 0, 1,\n",
       "       4, 2, 3, 0, 2, 3, 1, 4, 3, 4, 3, 1, 2, 3, 3, 4, 3, 4, 1, 4, 2, 2,\n",
       "       1, 3, 4, 1, 2, 4, 4, 2, 4, 4, 2, 4, 4, 0, 1, 2, 1, 1, 1, 1, 3, 1,\n",
       "       1, 4, 1, 3, 0, 0, 1, 0, 4, 0, 2, 3, 2, 2, 4, 3, 0, 0, 1, 2, 1, 0,\n",
       "       3, 0, 2, 0, 0, 0, 2, 1, 2, 4, 2, 0, 4, 1, 1, 1, 0, 1, 3, 0, 4, 3,\n",
       "       3, 4, 3, 1, 3, 2, 0, 0, 2, 2, 4, 2, 4, 1, 2, 1, 0, 3, 4, 2, 1, 0,\n",
       "       4, 2, 0, 3, 3, 1, 4, 4, 2, 3, 4, 1, 3], dtype=int64)"
      ]
     },
     "execution_count": 114,
     "metadata": {},
     "output_type": "execute_result"
    }
   ],
   "source": [
    "y_pred = model.predict(X_test)\n",
    "y_pred"
   ]
  },
  {
   "cell_type": "code",
   "execution_count": 116,
   "id": "d7d648d7-cf1e-4d1a-8057-843915690c61",
   "metadata": {},
   "outputs": [
    {
     "name": "stdout",
     "output_type": "stream",
     "text": [
      "              precision    recall  f1-score   support\n",
      "\n",
      "           0       1.00      0.95      0.97        39\n",
      "           1       0.90      1.00      0.95        36\n",
      "           2       1.00      0.95      0.97        41\n",
      "           3       1.00      1.00      1.00        37\n",
      "           4       1.00      1.00      1.00        36\n",
      "\n",
      "    accuracy                           0.98       189\n",
      "   macro avg       0.98      0.98      0.98       189\n",
      "weighted avg       0.98      0.98      0.98       189\n",
      "\n"
     ]
    }
   ],
   "source": [
    "from sklearn.metrics import classification_report\n",
    "\n",
    "laporan = classification_report(y_test,y_pred)\n",
    "print(laporan)"
   ]
  },
  {
   "cell_type": "code",
   "execution_count": null,
   "id": "16c80f80-3b12-4ec7-958d-a52fb9809cb2",
   "metadata": {},
   "outputs": [],
   "source": []
  },
  {
   "cell_type": "code",
   "execution_count": null,
   "id": "3f9a2b2d-e3e6-4e1b-9f36-182e37e594dc",
   "metadata": {},
   "outputs": [],
   "source": []
  },
  {
   "cell_type": "code",
   "execution_count": null,
   "id": "464b612c-2492-48dc-b322-8707a978b271",
   "metadata": {},
   "outputs": [],
   "source": []
  },
  {
   "cell_type": "code",
   "execution_count": null,
   "id": "9eeb1ee9-a287-491a-b079-fecda3884e5f",
   "metadata": {},
   "outputs": [],
   "source": []
  },
  {
   "cell_type": "code",
   "execution_count": null,
   "id": "6bc874c2-e8c3-4ba5-b905-c8005040764d",
   "metadata": {},
   "outputs": [],
   "source": []
  },
  {
   "cell_type": "code",
   "execution_count": null,
   "id": "679533f4-74b6-442a-a698-2a26dcc9b17f",
   "metadata": {},
   "outputs": [],
   "source": []
  },
  {
   "cell_type": "code",
   "execution_count": null,
   "id": "3a21dfea-4bae-41cc-b469-1002ef7d6332",
   "metadata": {},
   "outputs": [],
   "source": []
  }
 ],
 "metadata": {
  "kernelspec": {
   "display_name": "Python 3 (ipykernel)",
   "language": "python",
   "name": "python3"
  },
  "language_info": {
   "codemirror_mode": {
    "name": "ipython",
    "version": 3
   },
   "file_extension": ".py",
   "mimetype": "text/x-python",
   "name": "python",
   "nbconvert_exporter": "python",
   "pygments_lexer": "ipython3",
   "version": "3.9.12"
  }
 },
 "nbformat": 4,
 "nbformat_minor": 5
}
